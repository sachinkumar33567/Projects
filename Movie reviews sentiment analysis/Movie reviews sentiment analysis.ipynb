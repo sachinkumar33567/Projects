{
 "cells": [
  {
   "cell_type": "markdown",
   "id": "198043f2",
   "metadata": {},
   "source": [
    "## Data preprocessing tools"
   ]
  },
  {
   "cell_type": "code",
   "execution_count": 89,
   "id": "97cc79d0",
   "metadata": {},
   "outputs": [],
   "source": [
    "# Tokenize the words"
   ]
  },
  {
   "cell_type": "code",
   "execution_count": 90,
   "id": "dc6bb19a",
   "metadata": {},
   "outputs": [],
   "source": [
    "text = \"Does this thing really work? Let's see.\""
   ]
  },
  {
   "cell_type": "code",
   "execution_count": 91,
   "id": "8f0f89c0",
   "metadata": {},
   "outputs": [],
   "source": [
    "from nltk.tokenize import sent_tokenize, word_tokenize"
   ]
  },
  {
   "cell_type": "code",
   "execution_count": 92,
   "id": "c1d3b09d",
   "metadata": {},
   "outputs": [
    {
     "data": {
      "text/plain": [
       "['Does this thing really work?', \"Let's see.\"]"
      ]
     },
     "execution_count": 92,
     "metadata": {},
     "output_type": "execute_result"
    }
   ],
   "source": [
    "sent_tokenize(text)"
   ]
  },
  {
   "cell_type": "code",
   "execution_count": 93,
   "id": "eefb3a45",
   "metadata": {},
   "outputs": [
    {
     "data": {
      "text/plain": [
       "['Does', 'this', 'thing', 'really', 'work', '?', 'Let', \"'s\", 'see', '.']"
      ]
     },
     "execution_count": 93,
     "metadata": {},
     "output_type": "execute_result"
    }
   ],
   "source": [
    "word_tokenize(text)"
   ]
  },
  {
   "cell_type": "code",
   "execution_count": null,
   "id": "544bc19f",
   "metadata": {},
   "outputs": [],
   "source": []
  },
  {
   "cell_type": "code",
   "execution_count": 94,
   "id": "e6fb9dfb",
   "metadata": {},
   "outputs": [],
   "source": [
    "# Remove unneccessary words"
   ]
  },
  {
   "cell_type": "code",
   "execution_count": 95,
   "id": "65beb6c5",
   "metadata": {},
   "outputs": [],
   "source": [
    "from nltk.corpus import stopwords\n",
    "import string\n",
    "stops = stopwords.words('english')\n",
    "punctuations = list(string.punctuation)\n",
    "stops += punctuations\n",
    "stops = set(stops)"
   ]
  },
  {
   "cell_type": "code",
   "execution_count": 96,
   "id": "3b97b357",
   "metadata": {},
   "outputs": [
    {
     "data": {
      "text/plain": [
       "['thing', 'really', 'work', 'let', \"'s\", 'see']"
      ]
     },
     "execution_count": 96,
     "metadata": {},
     "output_type": "execute_result"
    }
   ],
   "source": [
    "[w for w in word_tokenize(text.lower()) if w not in stops]"
   ]
  },
  {
   "cell_type": "code",
   "execution_count": null,
   "id": "64cb576b",
   "metadata": {},
   "outputs": [],
   "source": []
  },
  {
   "cell_type": "code",
   "execution_count": 97,
   "id": "8753cfe1",
   "metadata": {},
   "outputs": [],
   "source": [
    "# Stemming"
   ]
  },
  {
   "cell_type": "code",
   "execution_count": 98,
   "id": "42cc550b",
   "metadata": {},
   "outputs": [],
   "source": [
    "words = ['play', 'playing', 'played', 'player']"
   ]
  },
  {
   "cell_type": "code",
   "execution_count": 99,
   "id": "67504a18",
   "metadata": {},
   "outputs": [],
   "source": [
    "from nltk.stem import PorterStemmer\n",
    "ps = PorterStemmer()"
   ]
  },
  {
   "cell_type": "code",
   "execution_count": 100,
   "id": "b457ec23",
   "metadata": {},
   "outputs": [
    {
     "data": {
      "text/plain": [
       "['play', 'play', 'play', 'player']"
      ]
     },
     "execution_count": 100,
     "metadata": {},
     "output_type": "execute_result"
    }
   ],
   "source": [
    "stemmed_words = [ps.stem(w) for w in words]\n",
    "stemmed_words"
   ]
  },
  {
   "cell_type": "code",
   "execution_count": null,
   "id": "b2144274",
   "metadata": {},
   "outputs": [],
   "source": []
  },
  {
   "cell_type": "code",
   "execution_count": 101,
   "id": "0be5a5fe",
   "metadata": {},
   "outputs": [],
   "source": [
    "# Part of speech"
   ]
  },
  {
   "cell_type": "code",
   "execution_count": 102,
   "id": "dffc5286",
   "metadata": {},
   "outputs": [],
   "source": [
    "from nltk import pos_tag\n",
    "from nltk.corpus import state_union"
   ]
  },
  {
   "cell_type": "code",
   "execution_count": 103,
   "id": "7cec657f",
   "metadata": {},
   "outputs": [
    {
     "data": {
      "text/plain": [
       "\"PRESIDENT GEORGE W. BUSH'S ADDRESS BEFORE A JOINT SESSION OF THE CONGRESS ON THE STATE OF THE UNION\\n \\nJanuary 31, 2006\\n\\nTHE PRESIDENT: Thank you all. Mr. Speaker, Vice President Cheney, members of Congress, members of the Supreme Court and diplomatic corps, distinguished guests, and fellow citizens: Today our nation lost a beloved, graceful, courageous woman who called America to its founding ideals and carried on a noble dream. Tonight we are comforted by the hope of a glad reunion with the hus\""
      ]
     },
     "execution_count": 103,
     "metadata": {},
     "output_type": "execute_result"
    }
   ],
   "source": [
    "# load the speech\n",
    "text = state_union.raw('2006-GWBush.txt')\n",
    "text[: 500]"
   ]
  },
  {
   "cell_type": "code",
   "execution_count": 104,
   "id": "c0181fc4",
   "metadata": {},
   "outputs": [
    {
     "data": {
      "text/plain": [
       "[('PRESIDENT', 'NNP'),\n",
       " ('GEORGE', 'NNP'),\n",
       " ('W.', 'NNP'),\n",
       " ('BUSH', 'NNP'),\n",
       " (\"'S\", 'POS'),\n",
       " ('ADDRESS', 'NNP'),\n",
       " ('BEFORE', 'IN'),\n",
       " ('A', 'NNP'),\n",
       " ('JOINT', 'NNP'),\n",
       " ('SESSION', 'NNP')]"
      ]
     },
     "execution_count": 104,
     "metadata": {},
     "output_type": "execute_result"
    }
   ],
   "source": [
    "pos = pos_tag(word_tokenize(text))\n",
    "pos[: 10]"
   ]
  },
  {
   "cell_type": "code",
   "execution_count": 105,
   "id": "1a2e5a15",
   "metadata": {},
   "outputs": [
    {
     "data": {
      "text/plain": [
       "6461"
      ]
     },
     "execution_count": 105,
     "metadata": {},
     "output_type": "execute_result"
    }
   ],
   "source": [
    "len(pos)"
   ]
  },
  {
   "cell_type": "code",
   "execution_count": null,
   "id": "e4bc9e30",
   "metadata": {},
   "outputs": [],
   "source": []
  },
  {
   "cell_type": "code",
   "execution_count": 106,
   "id": "00343f13",
   "metadata": {},
   "outputs": [],
   "source": [
    "# Lemmatization"
   ]
  },
  {
   "cell_type": "code",
   "execution_count": 107,
   "id": "8e279de6",
   "metadata": {},
   "outputs": [],
   "source": [
    "from nltk.stem import WordNetLemmatizer\n",
    "lemmatizer = WordNetLemmatizer()"
   ]
  },
  {
   "cell_type": "code",
   "execution_count": 108,
   "id": "d4dedd6e",
   "metadata": {},
   "outputs": [
    {
     "data": {
      "text/plain": [
       "'good'"
      ]
     },
     "execution_count": 108,
     "metadata": {},
     "output_type": "execute_result"
    }
   ],
   "source": [
    "lemmatizer.lemmatize('better', pos='a')"
   ]
  },
  {
   "cell_type": "code",
   "execution_count": 109,
   "id": "4d0b747a",
   "metadata": {},
   "outputs": [
    {
     "data": {
      "text/plain": [
       "'paint'"
      ]
     },
     "execution_count": 109,
     "metadata": {},
     "output_type": "execute_result"
    }
   ],
   "source": [
    "lemmatizer.lemmatize('painting', pos='v')"
   ]
  },
  {
   "cell_type": "code",
   "execution_count": 110,
   "id": "f0faf753",
   "metadata": {},
   "outputs": [
    {
     "data": {
      "text/plain": [
       "'painting'"
      ]
     },
     "execution_count": 110,
     "metadata": {},
     "output_type": "execute_result"
    }
   ],
   "source": [
    "lemmatizer.lemmatize('painting', pos='n')"
   ]
  },
  {
   "cell_type": "code",
   "execution_count": null,
   "id": "2e5756b5",
   "metadata": {},
   "outputs": [],
   "source": []
  },
  {
   "cell_type": "code",
   "execution_count": null,
   "id": "8cdf9ceb",
   "metadata": {},
   "outputs": [],
   "source": []
  },
  {
   "cell_type": "markdown",
   "id": "62ac7b14",
   "metadata": {},
   "source": [
    "## Actual work"
   ]
  },
  {
   "cell_type": "code",
   "execution_count": 111,
   "id": "ec62c38b",
   "metadata": {},
   "outputs": [],
   "source": [
    "# Load the data"
   ]
  },
  {
   "cell_type": "code",
   "execution_count": 112,
   "id": "a16534d9",
   "metadata": {},
   "outputs": [
    {
     "data": {
      "text/plain": [
       "['neg', 'pos']"
      ]
     },
     "execution_count": 112,
     "metadata": {},
     "output_type": "execute_result"
    }
   ],
   "source": [
    "from nltk.corpus import movie_reviews\n",
    "movie_reviews.categories()"
   ]
  },
  {
   "cell_type": "code",
   "execution_count": 113,
   "id": "6b276078",
   "metadata": {},
   "outputs": [
    {
     "data": {
      "text/plain": [
       "['neg/cv000_29416.txt',\n",
       " 'neg/cv001_19502.txt',\n",
       " 'neg/cv002_17424.txt',\n",
       " 'neg/cv003_12683.txt',\n",
       " 'neg/cv004_12641.txt']"
      ]
     },
     "execution_count": 113,
     "metadata": {},
     "output_type": "execute_result"
    }
   ],
   "source": [
    "movie_reviews.fileids()[: 5]"
   ]
  },
  {
   "cell_type": "code",
   "execution_count": 114,
   "id": "19397e5f",
   "metadata": {},
   "outputs": [
    {
     "name": "stdout",
     "output_type": "stream",
     "text": [
      "2000\n",
      "1000\n"
     ]
    }
   ],
   "source": [
    "print(len(movie_reviews.fileids()))\n",
    "print(len(movie_reviews.fileids('neg')))"
   ]
  },
  {
   "cell_type": "code",
   "execution_count": 115,
   "id": "752cfafd",
   "metadata": {},
   "outputs": [
    {
     "name": "stdout",
     "output_type": "stream",
     "text": [
      "['plot', ':', 'two', 'teen', 'couples', 'go', 'to', ...]\n",
      "879\n"
     ]
    }
   ],
   "source": [
    "words = movie_reviews.words(movie_reviews.fileids()[0])\n",
    "print(words)\n",
    "print(len(words))"
   ]
  },
  {
   "cell_type": "code",
   "execution_count": 116,
   "id": "57b2e026",
   "metadata": {},
   "outputs": [],
   "source": [
    "# Extracting the words array and categories"
   ]
  },
  {
   "cell_type": "code",
   "execution_count": 117,
   "id": "6492170d",
   "metadata": {},
   "outputs": [
    {
     "data": {
      "text/plain": [
       "[(['plot', ':', 'two', 'teen', 'couples', 'go', 'to', ...], 'neg'),\n",
       " (['the', 'happy', 'bastard', \"'\", 's', 'quick', 'movie', ...], 'neg'),\n",
       " (['it', 'is', 'movies', 'like', 'these', 'that', 'make', ...], 'neg'),\n",
       " (['\"', 'quest', 'for', 'camelot', '\"', 'is', 'warner', ...], 'neg'),\n",
       " (['synopsis', ':', 'a', 'mentally', 'unstable', 'man', ...], 'neg')]"
      ]
     },
     "execution_count": 117,
     "metadata": {},
     "output_type": "execute_result"
    }
   ],
   "source": [
    "documents = []\n",
    "for category in movie_reviews.categories():\n",
    "    for fileid in movie_reviews.fileids(category):\n",
    "        documents.append((movie_reviews.words(fileid), category))\n",
    "        \n",
    "documents[: 5]"
   ]
  },
  {
   "cell_type": "code",
   "execution_count": 127,
   "id": "bdc0f32e",
   "metadata": {},
   "outputs": [
    {
     "data": {
      "text/plain": [
       "([(['ladies', 'and', 'gentlemen', ',', '1997', \"'\", 's', ...], 'pos'),\n",
       "  (['a', 'suave', ',', 'cool', ',', 'collected', ',', ...], 'neg'),\n",
       "  (['bruce', 'willis', 'needs', 'to', 'stay', 'away', ...], 'neg'),\n",
       "  (['plot', ':', 'a', 'little', 'boy', 'born', 'in', ...], 'neg'),\n",
       "  (['susan', 'granger', \"'\", 's', 'review', 'of', '\"', ...], 'pos')],\n",
       " 1809)"
      ]
     },
     "execution_count": 127,
     "metadata": {},
     "output_type": "execute_result"
    }
   ],
   "source": [
    "# shuffle them\n",
    "import random\n",
    "random.shuffle(documents)\n",
    "documents[: 5], len(documents[0][0])"
   ]
  },
  {
   "cell_type": "markdown",
   "id": "da71a406",
   "metadata": {},
   "source": [
    "### Data preprocessing"
   ]
  },
  {
   "cell_type": "code",
   "execution_count": 131,
   "id": "e2f41fd5",
   "metadata": {},
   "outputs": [],
   "source": [
    "from nltk.corpus import wordnet\n",
    "\n",
    "# simple pos tags will help to lemmatize the words\n",
    "def getSimplePosTag(tag):\n",
    "    if tag.startswith('J'):\n",
    "        return wordnet.ADJ\n",
    "    \n",
    "    elif tag.startswith('V'):\n",
    "        return wordnet.VERB\n",
    "    \n",
    "    elif tag.startswith('N'):\n",
    "        return wordnet.NOUN\n",
    "    \n",
    "    elif tag.startswith('R'):\n",
    "        return wordnet.ADV\n",
    "    \n",
    "    else:\n",
    "        return wordnet.NOUN"
   ]
  },
  {
   "cell_type": "code",
   "execution_count": 132,
   "id": "610ee60b",
   "metadata": {},
   "outputs": [
    {
     "name": "stdout",
     "output_type": "stream",
     "text": [
      "[('better', 'RBR')]\n",
      "RBR\n"
     ]
    }
   ],
   "source": [
    "from nltk import pos_tag\n",
    "print(pos_tag(['better']))\n",
    "print(pos_tag(['better'])[0][1])"
   ]
  },
  {
   "cell_type": "code",
   "execution_count": 133,
   "id": "a9bba9f0",
   "metadata": {},
   "outputs": [],
   "source": [
    "def getCleanedDocument(words):\n",
    "    result = []\n",
    "    for word in words:\n",
    "        if word.lower() not in stops:\n",
    "            stemmed_word = ps.stem(word)\n",
    "            tag = pos_tag([word])[0][1]\n",
    "            lemmatized = lemmatizer.lemmatize(word, pos=getSimplePosTag(tag))\n",
    "            result.append(lemmatized.lower())\n",
    "    return result"
   ]
  },
  {
   "cell_type": "code",
   "execution_count": 134,
   "id": "f062fcdb",
   "metadata": {},
   "outputs": [
    {
     "data": {
      "text/plain": [
       "[(['ladies', 'and', 'gentlemen', ',', '1997', \"'\", 's', ...], 'pos'),\n",
       " (['a', 'suave', ',', 'cool', ',', 'collected', ',', ...], 'neg'),\n",
       " (['bruce', 'willis', 'needs', 'to', 'stay', 'away', ...], 'neg'),\n",
       " (['plot', ':', 'a', 'little', 'boy', 'born', 'in', ...], 'neg'),\n",
       " (['susan', 'granger', \"'\", 's', 'review', 'of', '\"', ...], 'pos')]"
      ]
     },
     "execution_count": 134,
     "metadata": {},
     "output_type": "execute_result"
    }
   ],
   "source": [
    "documents[: 5]"
   ]
  },
  {
   "cell_type": "code",
   "execution_count": 135,
   "id": "4d79b015",
   "metadata": {},
   "outputs": [
    {
     "data": {
      "text/plain": [
       "1809"
      ]
     },
     "execution_count": 135,
     "metadata": {},
     "output_type": "execute_result"
    }
   ],
   "source": [
    "len(documents[0][0])"
   ]
  },
  {
   "cell_type": "code",
   "execution_count": 136,
   "id": "6c17fc14",
   "metadata": {},
   "outputs": [
    {
     "data": {
      "text/plain": [
       "836"
      ]
     },
     "execution_count": 136,
     "metadata": {},
     "output_type": "execute_result"
    }
   ],
   "source": [
    "len(getCleanedDocument(documents[0][0]))"
   ]
  },
  {
   "cell_type": "code",
   "execution_count": null,
   "id": "ddbe278d",
   "metadata": {},
   "outputs": [],
   "source": [
    "new_documents = [(getCleanedDocument(doc), cat) for doc, cat in documents]"
   ]
  },
  {
   "cell_type": "code",
   "execution_count": 139,
   "id": "19224221",
   "metadata": {},
   "outputs": [
    {
     "data": {
      "text/plain": [
       "836"
      ]
     },
     "execution_count": 139,
     "metadata": {},
     "output_type": "execute_result"
    }
   ],
   "source": [
    "len(new_documents[0][0])"
   ]
  },
  {
   "cell_type": "code",
   "execution_count": 140,
   "id": "2bdb8e2c",
   "metadata": {},
   "outputs": [
    {
     "data": {
      "text/plain": [
       "[(['ladies', 'and', 'gentlemen', ',', '1997', \"'\", 's', ...], 'pos'),\n",
       " (['a', 'suave', ',', 'cool', ',', 'collected', ',', ...], 'neg'),\n",
       " (['bruce', 'willis', 'needs', 'to', 'stay', 'away', ...], 'neg'),\n",
       " (['plot', ':', 'a', 'little', 'boy', 'born', 'in', ...], 'neg'),\n",
       " (['susan', 'granger', \"'\", 's', 'review', 'of', '\"', ...], 'pos')]"
      ]
     },
     "execution_count": 140,
     "metadata": {},
     "output_type": "execute_result"
    }
   ],
   "source": [
    "documents[: 5]"
   ]
  },
  {
   "cell_type": "markdown",
   "id": "91fcbc09",
   "metadata": {},
   "source": [
    "### Count vectorization"
   ]
  },
  {
   "cell_type": "code",
   "execution_count": 142,
   "id": "b1f1d44c",
   "metadata": {},
   "outputs": [],
   "source": [
    "data = ['the sky is blue', 'the sun is bright']"
   ]
  },
  {
   "cell_type": "code",
   "execution_count": 150,
   "id": "db8da963",
   "metadata": {},
   "outputs": [
    {
     "data": {
      "text/plain": [
       "<2x3 sparse matrix of type '<class 'numpy.int64'>'\n",
       "\twith 5 stored elements in Compressed Sparse Row format>"
      ]
     },
     "execution_count": 150,
     "metadata": {},
     "output_type": "execute_result"
    }
   ],
   "source": [
    "from sklearn.feature_extraction.text import CountVectorizer\n",
    "cv = CountVectorizer(max_features=3)\n",
    "output = cv.fit_transform(data)\n",
    "output"
   ]
  },
  {
   "cell_type": "code",
   "execution_count": 151,
   "id": "ac00cce7",
   "metadata": {},
   "outputs": [
    {
     "data": {
      "text/plain": [
       "array([[1, 1, 1],\n",
       "       [0, 1, 1]], dtype=int64)"
      ]
     },
     "execution_count": 151,
     "metadata": {},
     "output_type": "execute_result"
    }
   ],
   "source": [
    "output.toarray()"
   ]
  },
  {
   "cell_type": "code",
   "execution_count": 152,
   "id": "6da99353",
   "metadata": {},
   "outputs": [
    {
     "data": {
      "text/plain": [
       "['blue', 'is', 'the']"
      ]
     },
     "execution_count": 152,
     "metadata": {},
     "output_type": "execute_result"
    }
   ],
   "source": [
    "cv.get_feature_names()"
   ]
  },
  {
   "cell_type": "code",
   "execution_count": 153,
   "id": "2f6ba2b6",
   "metadata": {},
   "outputs": [
    {
     "data": {
      "text/plain": [
       "'hello sir'"
      ]
     },
     "execution_count": 153,
     "metadata": {},
     "output_type": "execute_result"
    }
   ],
   "source": [
    "' '.join(['hello', 'sir'])"
   ]
  },
  {
   "cell_type": "code",
   "execution_count": 154,
   "id": "f2acfa54",
   "metadata": {},
   "outputs": [],
   "source": [
    "categories = [0 if cat=='neg' else 1 for doc, cat in new_documents]\n",
    "text_docs = [' '.join(doc) for doc, cat in new_documents]"
   ]
  },
  {
   "cell_type": "code",
   "execution_count": 156,
   "id": "33d1805d",
   "metadata": {},
   "outputs": [
    {
     "name": "stdout",
     "output_type": "stream",
     "text": [
      "2000\n",
      "lady gentleman 1997 independence day title starship trooper surprisingly entertain id4 realize give last year sci fi hit 4 star rating spell powerful first hour subsequent viewing feel independence day really great seem -- though still give positive review starship trooper hand mock sense humor know perfectly well ridiculous may seem result starship trooper excite energetic lively science fiction film fact probably could never get tire watch film starship trooper reminiscient star war another ki\n"
     ]
    },
    {
     "data": {
      "text/plain": [
       "1"
      ]
     },
     "execution_count": 156,
     "metadata": {},
     "output_type": "execute_result"
    }
   ],
   "source": [
    "print(len(text_docs))\n",
    "print(text_docs[0][: 500])\n",
    "categories[0]"
   ]
  },
  {
   "cell_type": "code",
   "execution_count": 157,
   "id": "07d80503",
   "metadata": {},
   "outputs": [
    {
     "data": {
      "text/plain": [
       "(1400, 600)"
      ]
     },
     "execution_count": 157,
     "metadata": {},
     "output_type": "execute_result"
    }
   ],
   "source": [
    "from sklearn.model_selection import train_test_split as split\n",
    "x_train, x_test, y_train, y_test = split(text_docs, categories, test_size=.3, random_state=0)\n",
    "len(x_train), len(x_test)"
   ]
  },
  {
   "cell_type": "code",
   "execution_count": 158,
   "id": "718add02",
   "metadata": {
    "scrolled": true
   },
   "outputs": [
    {
     "data": {
      "text/plain": [
       "array([[0, 0, 1, ..., 0, 0, 0],\n",
       "       [0, 0, 2, ..., 0, 1, 0],\n",
       "       [0, 0, 0, ..., 0, 0, 0],\n",
       "       ...,\n",
       "       [0, 0, 2, ..., 0, 0, 0],\n",
       "       [1, 0, 2, ..., 0, 0, 1],\n",
       "       [0, 0, 0, ..., 0, 0, 1]], dtype=int64)"
      ]
     },
     "execution_count": 158,
     "metadata": {},
     "output_type": "execute_result"
    }
   ],
   "source": [
    "cv = CountVectorizer(max_features=3000, ngram_range=(1, 3), max_df=.8, min_df=.1)\n",
    "x_train_count = cv.fit_transform(x_train)\n",
    "x_train_count.toarray()"
   ]
  },
  {
   "cell_type": "code",
   "execution_count": 189,
   "id": "6757eb59",
   "metadata": {},
   "outputs": [
    {
     "data": {
      "text/plain": [
       "['able',\n",
       " 'across',\n",
       " 'act',\n",
       " 'action',\n",
       " 'actor',\n",
       " 'actually',\n",
       " 'add',\n",
       " 'age',\n",
       " 'almost',\n",
       " 'alone']"
      ]
     },
     "execution_count": 189,
     "metadata": {},
     "output_type": "execute_result"
    }
   ],
   "source": [
    "cv.get_feature_names()[: 10]"
   ]
  },
  {
   "cell_type": "code",
   "execution_count": 159,
   "id": "f0ec166e",
   "metadata": {},
   "outputs": [
    {
     "data": {
      "text/plain": [
       "448"
      ]
     },
     "execution_count": 159,
     "metadata": {},
     "output_type": "execute_result"
    }
   ],
   "source": [
    "len(cv.get_feature_names())"
   ]
  },
  {
   "cell_type": "code",
   "execution_count": 160,
   "id": "539d4ec7",
   "metadata": {},
   "outputs": [],
   "source": [
    "from sklearn.naive_bayes import MultinomialNB\n",
    "model = MultinomialNB()"
   ]
  },
  {
   "cell_type": "code",
   "execution_count": 162,
   "id": "37c60189",
   "metadata": {},
   "outputs": [
    {
     "data": {
      "text/plain": [
       "array([[0, 0, 0, ..., 0, 0, 2],\n",
       "       [0, 0, 0, ..., 0, 0, 0],\n",
       "       [0, 0, 2, ..., 0, 0, 2],\n",
       "       ...,\n",
       "       [0, 0, 0, ..., 0, 0, 0],\n",
       "       [0, 1, 0, ..., 0, 0, 1],\n",
       "       [0, 0, 0, ..., 0, 1, 1]], dtype=int64)"
      ]
     },
     "execution_count": 162,
     "metadata": {},
     "output_type": "execute_result"
    }
   ],
   "source": [
    "x_test_count = cv.transform(x_test)\n",
    "x_test_count.toarray()"
   ]
  },
  {
   "cell_type": "code",
   "execution_count": 163,
   "id": "5089b005",
   "metadata": {},
   "outputs": [
    {
     "data": {
      "text/plain": [
       "(600, 448)"
      ]
     },
     "execution_count": 163,
     "metadata": {},
     "output_type": "execute_result"
    }
   ],
   "source": [
    "x_test_count_array = x_test_count.toarray()\n",
    "x_test_count_array.shape"
   ]
  },
  {
   "cell_type": "code",
   "execution_count": 164,
   "id": "1879dc29",
   "metadata": {},
   "outputs": [
    {
     "data": {
      "text/plain": [
       "0.8016666666666666"
      ]
     },
     "execution_count": 164,
     "metadata": {},
     "output_type": "execute_result"
    }
   ],
   "source": [
    "model.fit(x_train_count, y_train)\n",
    "model.score(x_test_count_array, y_test)"
   ]
  },
  {
   "cell_type": "code",
   "execution_count": 165,
   "id": "27eb89aa",
   "metadata": {},
   "outputs": [],
   "source": [
    "from sklearn.svm import SVC\n",
    "model = SVC()"
   ]
  },
  {
   "cell_type": "code",
   "execution_count": 166,
   "id": "28d720ac",
   "metadata": {},
   "outputs": [
    {
     "data": {
      "text/plain": [
       "0.7833333333333333"
      ]
     },
     "execution_count": 166,
     "metadata": {},
     "output_type": "execute_result"
    }
   ],
   "source": [
    "model.fit(x_train_count, y_train)\n",
    "model.score(x_test_count_array, y_test)"
   ]
  },
  {
   "cell_type": "raw",
   "id": "84f56edc",
   "metadata": {},
   "source": [
    "# Tfidf Countvectorizer\n",
    "'''\n",
    "tf(t) = (no of times term 't' appears in a document.)/(total no of terms in the document.)\n",
    "idf(t) = log(total no of documents.)/(no of documents with term 't' in it.)\n",
    "'''"
   ]
  },
  {
   "cell_type": "code",
   "execution_count": 168,
   "id": "69afcb53",
   "metadata": {},
   "outputs": [],
   "source": [
    "docs = ['This is the first document.',\n",
    "          'This document is the second document.',\n",
    "          'And this is the third one.',\n",
    "          'Is this the first document?',]"
   ]
  },
  {
   "cell_type": "code",
   "execution_count": 169,
   "id": "3dac7c51",
   "metadata": {},
   "outputs": [],
   "source": [
    "from sklearn.feature_extraction.text import TfidfVectorizer\n",
    "tfidf = TfidfVectorizer()"
   ]
  },
  {
   "cell_type": "code",
   "execution_count": 170,
   "id": "9ed4a0e9",
   "metadata": {},
   "outputs": [
    {
     "data": {
      "text/plain": [
       "array([[0.        , 0.46979139, 0.58028582, 0.38408524, 0.        ,\n",
       "        0.        , 0.38408524, 0.        , 0.38408524],\n",
       "       [0.        , 0.6876236 , 0.        , 0.28108867, 0.        ,\n",
       "        0.53864762, 0.28108867, 0.        , 0.28108867],\n",
       "       [0.51184851, 0.        , 0.        , 0.26710379, 0.51184851,\n",
       "        0.        , 0.26710379, 0.51184851, 0.26710379],\n",
       "       [0.        , 0.46979139, 0.58028582, 0.38408524, 0.        ,\n",
       "        0.        , 0.38408524, 0.        , 0.38408524]])"
      ]
     },
     "execution_count": 170,
     "metadata": {},
     "output_type": "execute_result"
    }
   ],
   "source": [
    "response = tfidf.fit_transform(docs)\n",
    "response.toarray()"
   ]
  },
  {
   "cell_type": "code",
   "execution_count": 172,
   "id": "3f42ce57",
   "metadata": {},
   "outputs": [
    {
     "data": {
      "text/plain": [
       "['and', 'document', 'first', 'is', 'one', 'second', 'the', 'third', 'this']"
      ]
     },
     "execution_count": 172,
     "metadata": {},
     "output_type": "execute_result"
    }
   ],
   "source": [
    "tfidf.get_feature_names()"
   ]
  },
  {
   "cell_type": "code",
   "execution_count": 173,
   "id": "168f13c3",
   "metadata": {},
   "outputs": [
    {
     "data": {
      "text/plain": [
       "{'this': 8,\n",
       " 'is': 3,\n",
       " 'the': 6,\n",
       " 'first': 2,\n",
       " 'document': 1,\n",
       " 'second': 5,\n",
       " 'and': 0,\n",
       " 'third': 7,\n",
       " 'one': 4}"
      ]
     },
     "execution_count": 173,
     "metadata": {},
     "output_type": "execute_result"
    }
   ],
   "source": [
    "tfidf.vocabulary_"
   ]
  },
  {
   "cell_type": "code",
   "execution_count": 174,
   "id": "2304a969",
   "metadata": {},
   "outputs": [
    {
     "name": "stdout",
     "output_type": "stream",
     "text": [
      "  (0, 1)\t0.46979138557992045\n",
      "  (0, 2)\t0.5802858236844359\n",
      "  (0, 6)\t0.38408524091481483\n",
      "  (0, 3)\t0.38408524091481483\n",
      "  (0, 8)\t0.38408524091481483\n",
      "  (1, 5)\t0.5386476208856763\n",
      "  (1, 1)\t0.6876235979836938\n",
      "  (1, 6)\t0.281088674033753\n",
      "  (1, 3)\t0.281088674033753\n",
      "  (1, 8)\t0.281088674033753\n",
      "  (2, 4)\t0.511848512707169\n",
      "  (2, 7)\t0.511848512707169\n",
      "  (2, 0)\t0.511848512707169\n",
      "  (2, 6)\t0.267103787642168\n",
      "  (2, 3)\t0.267103787642168\n",
      "  (2, 8)\t0.267103787642168\n",
      "  (3, 1)\t0.46979138557992045\n",
      "  (3, 2)\t0.5802858236844359\n",
      "  (3, 6)\t0.38408524091481483\n",
      "  (3, 3)\t0.38408524091481483\n",
      "  (3, 8)\t0.38408524091481483\n"
     ]
    }
   ],
   "source": [
    "print(response)"
   ]
  },
  {
   "cell_type": "code",
   "execution_count": 175,
   "id": "df2039dd",
   "metadata": {},
   "outputs": [
    {
     "name": "stdout",
     "output_type": "stream",
     "text": [
      "document - 0.46979138557992045\n",
      "first - 0.5802858236844359\n",
      "the - 0.38408524091481483\n",
      "is - 0.38408524091481483\n",
      "this - 0.38408524091481483\n",
      "second - 0.0\n",
      "document - 0.46979138557992045\n",
      "the - 0.38408524091481483\n",
      "is - 0.38408524091481483\n",
      "this - 0.38408524091481483\n",
      "one - 0.0\n",
      "third - 0.0\n",
      "and - 0.0\n",
      "the - 0.38408524091481483\n",
      "is - 0.38408524091481483\n",
      "this - 0.38408524091481483\n",
      "document - 0.46979138557992045\n",
      "first - 0.5802858236844359\n",
      "the - 0.38408524091481483\n",
      "is - 0.38408524091481483\n",
      "this - 0.38408524091481483\n"
     ]
    }
   ],
   "source": [
    "feature_names = tfidf.get_feature_names()\n",
    "for col in response.nonzero()[1]:\n",
    "    print(feature_names[col],'-', response[0, col])"
   ]
  },
  {
   "cell_type": "code",
   "execution_count": 176,
   "id": "c6a28329",
   "metadata": {},
   "outputs": [
    {
     "data": {
      "text/plain": [
       "array([[0.        , 0.        , 0.05861156, ..., 0.        , 0.        ,\n",
       "        0.        ],\n",
       "       [0.        , 0.        , 0.13944536, ..., 0.        , 0.08506925,\n",
       "        0.        ],\n",
       "       [0.        , 0.        , 0.        , ..., 0.        , 0.        ,\n",
       "        0.        ],\n",
       "       ...,\n",
       "       [0.        , 0.        , 0.14565737, ..., 0.        , 0.        ,\n",
       "        0.        ],\n",
       "       [0.07301869, 0.        , 0.09950506, ..., 0.        , 0.        ,\n",
       "        0.05594542],\n",
       "       [0.        , 0.        , 0.        , ..., 0.        , 0.        ,\n",
       "        0.04362013]])"
      ]
     },
     "execution_count": 176,
     "metadata": {},
     "output_type": "execute_result"
    }
   ],
   "source": [
    "tfidf = TfidfVectorizer(max_features=3000, ngram_range=(1, 3), max_df=.8, min_df=.1)\n",
    "x_train_count = tfidf.fit_transform(x_train)\n",
    "x_train_count.toarray()"
   ]
  },
  {
   "cell_type": "code",
   "execution_count": 185,
   "id": "622fbfc0",
   "metadata": {},
   "outputs": [
    {
     "data": {
      "text/plain": [
       "MultinomialNB()"
      ]
     },
     "execution_count": 185,
     "metadata": {},
     "output_type": "execute_result"
    }
   ],
   "source": [
    "model = MultinomialNB()\n",
    "model.fit(x_train_count, y_train)"
   ]
  },
  {
   "cell_type": "code",
   "execution_count": 186,
   "id": "b5192c6e",
   "metadata": {},
   "outputs": [],
   "source": [
    "x_test_count = tfidf.transform(x_test)"
   ]
  },
  {
   "cell_type": "code",
   "execution_count": 187,
   "id": "357d99ef",
   "metadata": {},
   "outputs": [
    {
     "data": {
      "text/plain": [
       "0.7933333333333333"
      ]
     },
     "execution_count": 187,
     "metadata": {},
     "output_type": "execute_result"
    }
   ],
   "source": [
    "x_test_count_array = x_test_count.toarray()\n",
    "model.score(x_test_count_array, y_test)"
   ]
  },
  {
   "cell_type": "code",
   "execution_count": null,
   "id": "31328bb6",
   "metadata": {},
   "outputs": [],
   "source": []
  }
 ],
 "metadata": {
  "kernelspec": {
   "display_name": "Python 3 (ipykernel)",
   "language": "python",
   "name": "python3"
  },
  "language_info": {
   "codemirror_mode": {
    "name": "ipython",
    "version": 3
   },
   "file_extension": ".py",
   "mimetype": "text/x-python",
   "name": "python",
   "nbconvert_exporter": "python",
   "pygments_lexer": "ipython3",
   "version": "3.9.13"
  }
 },
 "nbformat": 4,
 "nbformat_minor": 5
}
